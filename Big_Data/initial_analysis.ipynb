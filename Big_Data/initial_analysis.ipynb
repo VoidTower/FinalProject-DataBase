{
 "cells": [
  {
   "cell_type": "code",
   "execution_count": 2,
   "id": "2b9836fd-6195-4e50-a9a9-ef934aa7fb22",
   "metadata": {},
   "outputs": [
    {
     "name": "stderr",
     "output_type": "stream",
     "text": [
      "C:\\Users\\tanji\\AppData\\Local\\Temp\\ipykernel_16932\\1359261061.py:5: DtypeWarning: Columns (8,12,13,14,15,16,50,51,52,53,55,56,57,58,59,60,61,62,63,64,65,66,67,68,69,70,71,72,73,74,75,76,77,78,79,80,81,82,83,84,85,93,94,95,96,97,98,99,100,101,102,103,104,105,106,107,108,109,110,111,112,113,114,115,116,117,118,119,120,121,122,123,124,125,126,127,128) have mixed types. Specify dtype option on import or set low_memory=False.\n",
      "  df = pd.read_csv(\"survey_results_public.csv\")\n"
     ]
    },
    {
     "data": {
      "text/plain": [
       "(98855, 129)"
      ]
     },
     "execution_count": 2,
     "metadata": {},
     "output_type": "execute_result"
    }
   ],
   "source": [
    "# Cell 1: Import libraries\n",
    "import pandas as pd\n",
    "\n",
    "# Cell 2: Load the data\n",
    "df = pd.read_csv(\"survey_results_public.csv\")\n",
    "\n",
    "# Cell 3: Shape of the dataset\n",
    "df.shape"
   ]
  },
  {
   "cell_type": "code",
   "execution_count": 3,
   "id": "510ec64b-c5c8-4a7c-8edf-e6724b07d4b9",
   "metadata": {},
   "outputs": [
    {
     "name": "stdout",
     "output_type": "stream",
     "text": [
      "Need to add 1145 rows\n",
      "(100000, 129)\n"
     ]
    }
   ],
   "source": [
    "import pandas as pd\n",
    "\n",
    "# Load original data\n",
    "df = pd.read_csv(\"survey_results_public.csv\", low_memory=False)\n",
    "\n",
    "# Check how many rows to add\n",
    "rows_needed = 100000 - len(df)\n",
    "print(f\"Need to add {rows_needed} rows\")\n",
    "\n",
    "# Duplicate random rows\n",
    "df_extra = df.sample(n=rows_needed, replace=True, random_state=42)\n",
    "\n",
    "# Combine\n",
    "df_100k = pd.concat([df, df_extra], ignore_index=True)\n",
    "\n",
    "# Confirm shape\n",
    "print(df_100k.shape)\n",
    "\n",
    "# Save new dataset\n",
    "df_100k.to_csv(\"survey_results_public_100k.csv\", index=False)"
   ]
  },
  {
   "cell_type": "code",
   "execution_count": 5,
   "id": "36cdb627-07c2-44dc-af64-863711678093",
   "metadata": {},
   "outputs": [],
   "source": [
    "df = pd.read_csv(\"survey_results_public_100k.csv\", low_memory=False)"
   ]
  },
  {
   "cell_type": "code",
   "execution_count": 7,
   "id": "20e4df50-7bf0-4f6f-90e5-1f16acfb9aed",
   "metadata": {},
   "outputs": [
    {
     "data": {
      "text/plain": [
       "(100000, 129)"
      ]
     },
     "execution_count": 7,
     "metadata": {},
     "output_type": "execute_result"
    }
   ],
   "source": [
    "df.shape"
   ]
  },
  {
   "cell_type": "code",
   "execution_count": 2,
   "id": "2136e308-a4c3-4f0c-be4f-0565634384fc",
   "metadata": {},
   "outputs": [],
   "source": [
    "import pandas as pd\n",
    "\n",
    "# Load the dataset\n",
    "df = pd.read_csv(\"survey_results_public.csv\", low_memory=False)\n"
   ]
  },
  {
   "cell_type": "code",
   "execution_count": 3,
   "id": "a6240ed7-742c-4ad5-934c-de078fa1ed0e",
   "metadata": {},
   "outputs": [
    {
     "name": "stdout",
     "output_type": "stream",
     "text": [
      "Basic Info\n",
      "<class 'pandas.core.frame.DataFrame'>\n",
      "RangeIndex: 100000 entries, 0 to 99999\n",
      "Columns: 129 entries, Respondent to SurveyEasy\n",
      "dtypes: float64(41), int64(1), object(87)\n",
      "memory usage: 98.4+ MB\n",
      "None\n"
     ]
    }
   ],
   "source": [
    "# Display basic information\n",
    "print(\"Basic Info\")\n",
    "print(df.info())\n",
    "\n"
   ]
  },
  {
   "cell_type": "code",
   "execution_count": 4,
   "id": "eb6e7b5c-1310-4281-aa87-c289edccd454",
   "metadata": {},
   "outputs": [
    {
     "name": "stdout",
     "output_type": "stream",
     "text": [
      "\n",
      " Shape of the dataset:\n",
      "Rows: 100,000, Columns: 129\n"
     ]
    }
   ],
   "source": [
    "# Show number of rows and columns\n",
    "print(\"\\n Shape of the dataset:\")\n",
    "print(f\"Rows: {df.shape[0]:,}, Columns: {df.shape[1]}\")\n",
    "\n"
   ]
  },
  {
   "cell_type": "code",
   "execution_count": 5,
   "id": "a2b6c1cd-4c6e-4abc-9bdd-7dc129dc3422",
   "metadata": {},
   "outputs": [
    {
     "name": "stdout",
     "output_type": "stream",
     "text": [
      "\n",
      " First 5 rows:\n",
      "   Respondent Hobby OpenSource         Country         Student  \\\n",
      "0           1   Yes         No           Kenya              No   \n",
      "1           3   Yes        Yes  United Kingdom              No   \n",
      "2           4   Yes        Yes   United States              No   \n",
      "3           5    No         No   United States              No   \n",
      "4           7   Yes         No    South Africa  Yes, part-time   \n",
      "\n",
      "           Employment                                    FormalEducation  \\\n",
      "0  Employed part-time           Bachelor’s degree (BA, BS, B.Eng., etc.)   \n",
      "1  Employed full-time           Bachelor’s degree (BA, BS, B.Eng., etc.)   \n",
      "2  Employed full-time                                   Associate degree   \n",
      "3  Employed full-time           Bachelor’s degree (BA, BS, B.Eng., etc.)   \n",
      "4  Employed full-time  Some college/university study without earning ...   \n",
      "\n",
      "                                      UndergradMajor  \\\n",
      "0                          Mathematics or statistics   \n",
      "1  A natural science (ex. biology, chemistry, phy...   \n",
      "2  Computer science, computer engineering, or sof...   \n",
      "3  Computer science, computer engineering, or sof...   \n",
      "4  Computer science, computer engineering, or sof...   \n",
      "\n",
      "                CompanySize  \\\n",
      "0        20 to 99 employees   \n",
      "1  10,000 or more employees   \n",
      "2        20 to 99 employees   \n",
      "3      100 to 499 employees   \n",
      "4  10,000 or more employees   \n",
      "\n",
      "                                             DevType  ...  \\\n",
      "0                               Full-stack developer  ...   \n",
      "1  Database administrator;DevOps specialist;Full-...  ...   \n",
      "2           Engineering manager;Full-stack developer  ...   \n",
      "3                               Full-stack developer  ...   \n",
      "4  Data or business analyst;Desktop or enterprise...  ...   \n",
      "\n",
      "                     Exercise Gender         SexualOrientation  \\\n",
      "0        3 - 4 times per week   Male  Straight or heterosexual   \n",
      "1   Daily or almost every day   Male  Straight or heterosexual   \n",
      "2                         NaN    NaN                       NaN   \n",
      "3  I don't typically exercise   Male  Straight or heterosexual   \n",
      "4        3 - 4 times per week   Male  Straight or heterosexual   \n",
      "\n",
      "                                    EducationParents  \\\n",
      "0           Bachelor’s degree (BA, BS, B.Eng., etc.)   \n",
      "1           Bachelor’s degree (BA, BS, B.Eng., etc.)   \n",
      "2                                                NaN   \n",
      "3  Some college/university study without earning ...   \n",
      "4  Some college/university study without earning ...   \n",
      "\n",
      "                  RaceEthnicity                Age Dependents  MilitaryUS  \\\n",
      "0   Black or of African descent  25 - 34 years old        Yes         NaN   \n",
      "1  White or of European descent  35 - 44 years old        Yes         NaN   \n",
      "2                           NaN                NaN        NaN         NaN   \n",
      "3  White or of European descent  35 - 44 years old         No          No   \n",
      "4  White or of European descent  18 - 24 years old        Yes         NaN   \n",
      "\n",
      "                          SurveyTooLong     SurveyEasy  \n",
      "0  The survey was an appropriate length      Very easy  \n",
      "1  The survey was an appropriate length  Somewhat easy  \n",
      "2                                   NaN            NaN  \n",
      "3  The survey was an appropriate length  Somewhat easy  \n",
      "4  The survey was an appropriate length  Somewhat easy  \n",
      "\n",
      "[5 rows x 129 columns]\n"
     ]
    }
   ],
   "source": [
    "# Show first 5 rows\n",
    "print(\"\\n First 5 rows:\")\n",
    "print(df.head())\n",
    "\n"
   ]
  },
  {
   "cell_type": "code",
   "execution_count": 6,
   "id": "db471dbd-841a-484b-a4d3-014656c72bfe",
   "metadata": {},
   "outputs": [
    {
     "name": "stdout",
     "output_type": "stream",
     "text": [
      "\n",
      " Column names:\n",
      "['Respondent', 'Hobby', 'OpenSource', 'Country', 'Student', 'Employment', 'FormalEducation', 'UndergradMajor', 'CompanySize', 'DevType', 'YearsCoding', 'YearsCodingProf', 'JobSatisfaction', 'CareerSatisfaction', 'HopeFiveYears', 'JobSearchStatus', 'LastNewJob', 'AssessJob1', 'AssessJob2', 'AssessJob3', 'AssessJob4', 'AssessJob5', 'AssessJob6', 'AssessJob7', 'AssessJob8', 'AssessJob9', 'AssessJob10', 'AssessBenefits1', 'AssessBenefits2', 'AssessBenefits3', 'AssessBenefits4', 'AssessBenefits5', 'AssessBenefits6', 'AssessBenefits7', 'AssessBenefits8', 'AssessBenefits9', 'AssessBenefits10', 'AssessBenefits11', 'JobContactPriorities1', 'JobContactPriorities2', 'JobContactPriorities3', 'JobContactPriorities4', 'JobContactPriorities5', 'JobEmailPriorities1', 'JobEmailPriorities2', 'JobEmailPriorities3', 'JobEmailPriorities4', 'JobEmailPriorities5', 'JobEmailPriorities6', 'JobEmailPriorities7', 'UpdateCV', 'Currency', 'Salary', 'SalaryType', 'ConvertedSalary', 'CurrencySymbol', 'CommunicationTools', 'TimeFullyProductive', 'EducationTypes', 'SelfTaughtTypes', 'TimeAfterBootcamp', 'HackathonReasons', 'AgreeDisagree1', 'AgreeDisagree2', 'AgreeDisagree3', 'LanguageWorkedWith', 'LanguageDesireNextYear', 'DatabaseWorkedWith', 'DatabaseDesireNextYear', 'PlatformWorkedWith', 'PlatformDesireNextYear', 'FrameworkWorkedWith', 'FrameworkDesireNextYear', 'IDE', 'OperatingSystem', 'NumberMonitors', 'Methodology', 'VersionControl', 'CheckInCode', 'AdBlocker', 'AdBlockerDisable', 'AdBlockerReasons', 'AdsAgreeDisagree1', 'AdsAgreeDisagree2', 'AdsAgreeDisagree3', 'AdsActions', 'AdsPriorities1', 'AdsPriorities2', 'AdsPriorities3', 'AdsPriorities4', 'AdsPriorities5', 'AdsPriorities6', 'AdsPriorities7', 'AIDangerous', 'AIInteresting', 'AIResponsible', 'AIFuture', 'EthicsChoice', 'EthicsReport', 'EthicsResponsible', 'EthicalImplications', 'StackOverflowRecommend', 'StackOverflowVisit', 'StackOverflowHasAccount', 'StackOverflowParticipate', 'StackOverflowJobs', 'StackOverflowDevStory', 'StackOverflowJobsRecommend', 'StackOverflowConsiderMember', 'HypotheticalTools1', 'HypotheticalTools2', 'HypotheticalTools3', 'HypotheticalTools4', 'HypotheticalTools5', 'WakeTime', 'HoursComputer', 'HoursOutside', 'SkipMeals', 'ErgonomicDevices', 'Exercise', 'Gender', 'SexualOrientation', 'EducationParents', 'RaceEthnicity', 'Age', 'Dependents', 'MilitaryUS', 'SurveyTooLong', 'SurveyEasy']\n",
      "\n",
      " Missing Values (Top 10 Columns):\n",
      "TimeAfterBootcamp             93267\n",
      "MilitaryUS                    84036\n",
      "HackathonReasons              74003\n",
      "ErgonomicDevices              65541\n",
      "AdBlockerReasons              61845\n",
      "StackOverflowJobsRecommend    61239\n",
      "JobEmailPriorities7           53236\n",
      "JobEmailPriorities5           53236\n",
      "JobEmailPriorities6           53236\n",
      "JobEmailPriorities4           53236\n",
      "dtype: int64\n"
     ]
    }
   ],
   "source": [
    "# Show column names\n",
    "print(\"\\n Column names:\")\n",
    "print(df.columns.tolist())\n",
    "\n",
    "# Check for missing values\n",
    "print(\"\\n Missing Values (Top 10 Columns):\")\n",
    "print(df.isnull().sum().sort_values(ascending=False).head(10))\n"
   ]
  },
  {
   "cell_type": "code",
   "execution_count": 7,
   "id": "81501843-c273-4b4c-914f-0c9a04a04ee8",
   "metadata": {},
   "outputs": [
    {
     "name": "stdout",
     "output_type": "stream",
     "text": [
      "\n",
      " Number of Unique Values (Top 10 Columns):\n",
      "Respondent                98855\n",
      "LanguageDesireNextYear    28657\n",
      "LanguageWorkedWith        26678\n",
      "PlatformDesireNextYear    13704\n",
      "DatabaseDesireNextYear    10028\n",
      "DevType                    9568\n",
      "PlatformWorkedWith         9320\n",
      "IDE                        7884\n",
      "ConvertedSalary            7473\n",
      "DatabaseWorkedWith         6877\n",
      "dtype: int64\n"
     ]
    }
   ],
   "source": [
    "# Check number of unique values in each column\n",
    "print(\"\\n Number of Unique Values (Top 10 Columns):\")\n",
    "print(df.nunique().sort_values(ascending=False).head(10))\n",
    "\n"
   ]
  },
  {
   "cell_type": "code",
   "execution_count": 8,
   "id": "0561d671-cf01-4777-be8f-4bde3430393a",
   "metadata": {},
   "outputs": [
    {
     "name": "stdout",
     "output_type": "stream",
     "text": [
      "\n",
      " Numerical Summary Stats:\n",
      "          Respondent    AssessJob1    AssessJob2    AssessJob3    AssessJob4  \\\n",
      "count  100000.000000  67744.000000  67744.000000  67744.000000  67744.000000   \n",
      "mean    50810.364940      6.399814      6.673742      5.904523      4.066412   \n",
      "std     29329.387196      2.787602      2.529927      2.643009      2.542038   \n",
      "min         1.000000      1.000000      1.000000      1.000000      1.000000   \n",
      "25%     25422.750000      4.000000      5.000000      4.000000      2.000000   \n",
      "50%     50815.500000      7.000000      7.000000      6.000000      4.000000   \n",
      "75%     76220.250000      9.000000      9.000000      8.000000      6.000000   \n",
      "max    101592.000000     10.000000     10.000000     10.000000     10.000000   \n",
      "\n",
      "         AssessJob5    AssessJob6    AssessJob7    AssessJob8    AssessJob9  \\\n",
      "count  67744.000000  67744.000000  67744.000000  67744.000000  67744.000000   \n",
      "mean       3.951287      4.406752      5.673314      4.225555      7.640145   \n",
      "std        2.518858      2.501851      2.923908      2.507328      2.408098   \n",
      "min        1.000000      1.000000      1.000000      1.000000      1.000000   \n",
      "25%        2.000000      2.000000      3.000000      2.000000      6.000000   \n",
      "50%        3.000000      4.000000      6.000000      4.000000      8.000000   \n",
      "75%        6.000000      6.000000      8.000000      6.000000     10.000000   \n",
      "max       10.000000     10.000000     10.000000     10.000000     10.000000   \n",
      "\n",
      "       ...  JobEmailPriorities6  JobEmailPriorities7  ConvertedSalary  \\\n",
      "count  ...         46764.000000         46764.000000     4.824400e+04   \n",
      "mean   ...             4.973740             4.835878     9.582006e+04   \n",
      "std    ...             1.860819             1.660137     2.024642e+05   \n",
      "min    ...             1.000000             1.000000     0.000000e+00   \n",
      "25%    ...             4.000000             4.000000     2.384400e+04   \n",
      "50%    ...             5.000000             5.000000     5.507500e+04   \n",
      "75%    ...             7.000000             6.000000     9.271725e+04   \n",
      "max    ...             7.000000             7.000000     2.000000e+06   \n",
      "\n",
      "       AdsPriorities1  AdsPriorities2  AdsPriorities3  AdsPriorities4  \\\n",
      "count    61147.000000    61147.000000    61147.000000    61147.000000   \n",
      "mean         2.726659        3.807578        3.340769        3.781788   \n",
      "std          1.880865        1.821643        1.674549        1.844951   \n",
      "min          1.000000        1.000000        1.000000        1.000000   \n",
      "25%          1.000000        2.000000        2.000000        2.000000   \n",
      "50%          2.000000        4.000000        3.000000        4.000000   \n",
      "75%          4.000000        5.000000        5.000000        5.000000   \n",
      "max          7.000000        7.000000        7.000000        7.000000   \n",
      "\n",
      "       AdsPriorities5  AdsPriorities6  AdsPriorities7  \n",
      "count    61147.000000    61147.000000    61147.000000  \n",
      "mean         4.384042        5.138208        4.820907  \n",
      "std          1.931160        1.853448        1.874578  \n",
      "min          1.000000        1.000000        1.000000  \n",
      "25%          3.000000        4.000000        3.000000  \n",
      "50%          5.000000        6.000000        5.000000  \n",
      "75%          6.000000        7.000000        7.000000  \n",
      "max          7.000000        7.000000        7.000000  \n",
      "\n",
      "[8 rows x 42 columns]\n",
      "\n",
      " Categorical Summary Stats:\n",
      "         Hobby OpenSource        Country Student          Employment  \\\n",
      "count   100000     100000          99583   95998               96428   \n",
      "unique       2          2            183       3                   6   \n",
      "top        Yes         No  United States      No  Employed full-time   \n",
      "freq     80819      56399          20553   71198               71306   \n",
      "\n",
      "                                 FormalEducation  \\\n",
      "count                                      95810   \n",
      "unique                                         9   \n",
      "top     Bachelor’s degree (BA, BS, B.Eng., etc.)   \n",
      "freq                                       44180   \n",
      "\n",
      "                                           UndergradMajor         CompanySize  \\\n",
      "count                                               79953               72361   \n",
      "unique                                                 12                   8   \n",
      "top     Computer science, computer engineering, or sof...  20 to 99 employees   \n",
      "freq                                                50948               17193   \n",
      "\n",
      "                   DevType YearsCoding  ...                    Exercise  \\\n",
      "count                93163       94926  ...                       72919   \n",
      "unique                9568          11  ...                           4   \n",
      "top     Back-end developer   3-5 years  ...  I don't typically exercise   \n",
      "freq                  6492       23588  ...                       27316   \n",
      "\n",
      "       Gender         SexualOrientation  \\\n",
      "count   65188                     60432   \n",
      "unique     15                        14   \n",
      "top      Male  Straight or heterosexual   \n",
      "freq    60108                     55626   \n",
      "\n",
      "                                EducationParents  \\\n",
      "count                                      62503   \n",
      "unique                                         9   \n",
      "top     Bachelor’s degree (BA, BS, B.Eng., etc.)   \n",
      "freq                                       18299   \n",
      "\n",
      "                       RaceEthnicity                Age Dependents MilitaryUS  \\\n",
      "count                          58105              65291      63291      15964   \n",
      "unique                            71                  7          2          2   \n",
      "top     White or of European descent  25 - 34 years old         No         No   \n",
      "freq                           40995              32113      44987      15222   \n",
      "\n",
      "                               SurveyTooLong     SurveyEasy  \n",
      "count                                  66676          66616  \n",
      "unique                                     3              5  \n",
      "top     The survey was an appropriate length  Somewhat easy  \n",
      "freq                                   33635          24715  \n",
      "\n",
      "[4 rows x 87 columns]\n"
     ]
    }
   ],
   "source": [
    "# Summary statistics for numerical columns\n",
    "print(\"\\n Numerical Summary Stats:\")\n",
    "print(df.describe())\n",
    "\n",
    "# Summary statistics for object/categorical columns\n",
    "print(\"\\n Categorical Summary Stats:\")\n",
    "print(df.describe(include=['object']))"
   ]
  },
  {
   "cell_type": "code",
   "execution_count": null,
   "id": "c1b9cbe0-6942-4d65-9027-14bc36b224a0",
   "metadata": {},
   "outputs": [],
   "source": []
  }
 ],
 "metadata": {
  "kernelspec": {
   "display_name": "Python 3 (ipykernel)",
   "language": "python",
   "name": "python3"
  },
  "language_info": {
   "codemirror_mode": {
    "name": "ipython",
    "version": 3
   },
   "file_extension": ".py",
   "mimetype": "text/x-python",
   "name": "python",
   "nbconvert_exporter": "python",
   "pygments_lexer": "ipython3",
   "version": "3.13.1"
  }
 },
 "nbformat": 4,
 "nbformat_minor": 5
}
