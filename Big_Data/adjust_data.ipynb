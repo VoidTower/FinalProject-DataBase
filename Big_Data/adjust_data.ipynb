{
 "cells": [
  {
   "cell_type": "code",
   "execution_count": 1,
   "id": "ce173f20-5471-4834-84ee-5defd451cb8a",
   "metadata": {},
   "outputs": [
    {
     "name": "stdout",
     "output_type": "stream",
     "text": [
      "Original rows: 100000 — Adding: 0 rows\n",
      "✅ Overwritten: survey_results_public.csv now has 100,000 rows\n"
     ]
    }
   ],
   "source": [
    "import pandas as pd\n",
    "\n",
    "# Load the original CSV\n",
    "df = pd.read_csv(\"survey_results_public.csv\", low_memory=False)\n",
    "\n",
    "# Calculate how many rows are needed to reach 100,000\n",
    "rows_needed = 100000 - len(df)\n",
    "print(f\"Original rows: {len(df)} — Adding: {rows_needed} rows\")\n",
    "\n",
    "# Duplicate random rows to reach 100,000\n",
    "if rows_needed > 0:\n",
    "    df_extra = df.sample(n=rows_needed, replace=True, random_state=42)\n",
    "    df_100k = pd.concat([df, df_extra], ignore_index=True)\n",
    "else:\n",
    "    df_100k = df.copy()\n",
    "\n",
    "# Overwrite the same file — this will not require to change any code elsewhere\n",
    "df_100k.to_csv(\"survey_results_public.csv\", index=False)\n",
    "print(\"Overwritten: survey_results_public.csv now has 100,000 rows\")"
   ]
  },
  {
   "cell_type": "code",
   "execution_count": null,
   "id": "3dce87a4-a047-451c-9e56-f96b6e529e18",
   "metadata": {},
   "outputs": [],
   "source": []
  }
 ],
 "metadata": {
  "kernelspec": {
   "display_name": "Python 3 (ipykernel)",
   "language": "python",
   "name": "python3"
  },
  "language_info": {
   "codemirror_mode": {
    "name": "ipython",
    "version": 3
   },
   "file_extension": ".py",
   "mimetype": "text/x-python",
   "name": "python",
   "nbconvert_exporter": "python",
   "pygments_lexer": "ipython3",
   "version": "3.13.1"
  }
 },
 "nbformat": 4,
 "nbformat_minor": 5
}
